{
 "cells": [
  {
   "cell_type": "code",
   "execution_count": 1,
   "id": "8e989c29-3f4b-4837-8531-a0adb7f68497",
   "metadata": {},
   "outputs": [],
   "source": [
    "#Q.1 Explain with an example each when to use a for loop and a while loop."
   ]
  },
  {
   "cell_type": "code",
   "execution_count": 2,
   "id": "380faee4-97bb-4e65-aea2-ca862d4938ad",
   "metadata": {},
   "outputs": [
    {
     "name": "stdout",
     "output_type": "stream",
     "text": [
      "1\n",
      "2\n",
      "3\n"
     ]
    }
   ],
   "source": [
    "# Ans for loop :-executes code repeatedly for a particular number of iterations\n",
    "n = [1, 2, 3] \n",
    "for i in n: \n",
    "    print(i)"
   ]
  },
  {
   "cell_type": "code",
   "execution_count": 3,
   "id": "fcada96f-f878-436e-896d-2bd2611b042b",
   "metadata": {},
   "outputs": [
    {
     "name": "stdout",
     "output_type": "stream",
     "text": [
      "1\n",
      "2\n",
      "3\n"
     ]
    }
   ],
   "source": [
    "# while loop :- execute code till condition is true\n",
    "i=1\n",
    "while i<4:\n",
    "    print(i)\n",
    "    i +=1"
   ]
  },
  {
   "cell_type": "code",
   "execution_count": 4,
   "id": "1c9fe20f-4a00-4773-baab-d39c8d722526",
   "metadata": {},
   "outputs": [],
   "source": [
    "# Q2. Write a python program to print the sum and product of the first 10 natural numbers using for and while loop."
   ]
  },
  {
   "cell_type": "code",
   "execution_count": 11,
   "id": "d8ef754c-da6a-4884-952d-0b9f3d1f87ae",
   "metadata": {},
   "outputs": [
    {
     "name": "stdout",
     "output_type": "stream",
     "text": [
      "sum of 10 natural numbers:55\n",
      "multiplication of 10 natural numbers:3628800\n"
     ]
    }
   ],
   "source": [
    "# Ans for loop\n",
    "sum_ =0\n",
    "multi = 1\n",
    "for i in range(1,11):\n",
    "    sum_ += i\n",
    "    multi *= i\n",
    "print(f\"sum of 10 natural numbers:{sum_}\")\n",
    "print(f\"multiplication of 10 natural numbers:{multi}\")\n"
   ]
  },
  {
   "cell_type": "code",
   "execution_count": 12,
   "id": "47da6824-62c1-416f-8a0a-e10f497576c4",
   "metadata": {},
   "outputs": [
    {
     "name": "stdout",
     "output_type": "stream",
     "text": [
      "sum of 10 num:55\n",
      "multiplication of 10 num:3628800\n"
     ]
    }
   ],
   "source": [
    "'''while loop'''\n",
    "i=1\n",
    "sum1 = 0\n",
    "multi1 = 1\n",
    "while i <=10:\n",
    "    sum1 += i\n",
    "    multi1 *= i\n",
    "    i +=1\n",
    "print (f\"sum of 10 num:{sum1}\")\n",
    "print(f\"multiplication of 10 num:{multi1}\")\n",
    "    "
   ]
  },
  {
   "cell_type": "code",
   "execution_count": 13,
   "id": "e8b5575c-2c2e-4c81-a2c8-c61a268375e5",
   "metadata": {},
   "outputs": [
    {
     "data": {
      "text/plain": [
       "'Q3. Create a python program to compute the electricity bill for a household.The per-unit charges in rupees are as follows: For the first 100 units, the user will be charged Rs. 4.5 per\\nunit, for the next 100 units, the user will be charged Rs. 6 per unit, and for the next 100 units, the user will\\nbe charged Rs. 10 per unit, After 300 units and above the user will be charged Rs. 20 per unit.\\nYou are required to take the units of electricity consumed in a month from the user as input.\\nYour program must pass this test case: when the unit of electricity consumed by the user in a month is\\n310, the total electricity bill should be 2250.'"
      ]
     },
     "execution_count": 13,
     "metadata": {},
     "output_type": "execute_result"
    }
   ],
   "source": [
    "# Q3. Create a python program to compute the electricity bill for a household.The per-unit charges in rupees are as follows: For the first 100 units, the user will be charged Rs. 4.5 per\n",
    "# unit, for the next 100 units, the user will be charged Rs. 6 per unit, and for the next 100 units, the user will\n",
    "# be charged Rs. 10 per unit, After 300 units and above the user will be charged Rs. 20 per unit.\n",
    "# You are required to take the units of electricity consumed in a month from the user as input.\n",
    "# Your program must pass this test case: when the unit of electricity consumed by the user in a month is\n",
    "# 310, the total electricity bill should be 2250."
   ]
  },
  {
   "cell_type": "code",
   "execution_count": 15,
   "id": "69f61462-545c-474b-82f0-df7854af8b53",
   "metadata": {},
   "outputs": [
    {
     "name": "stdin",
     "output_type": "stream",
     "text": [
      "Enter your unit:  310\n"
     ]
    },
    {
     "name": "stdout",
     "output_type": "stream",
     "text": [
      "Bill Per Unit:2250.0\n"
     ]
    }
   ],
   "source": [
    "unit = int(input(\"Enter your unit: \"))\n",
    "if unit <= 100:\n",
    "    bill = unit * 4.5\n",
    "elif unit >= 101 and unit <= 200:\n",
    "    bill = (unit * 4.5) + ((unit - 100) * 6)\n",
    "elif unit >= 201 and unit <= 300:\n",
    "    bill = (100*4.5)+(200-100)*6+(unit-200)*10\n",
    "else:\n",
    "    bill = (100*4.5)+(200-100)*6+(300-200)*10+(unit-300)*20\n",
    "print(f\"Bill Per Unit:{bill}\")"
   ]
  },
  {
   "cell_type": "code",
   "execution_count": 16,
   "id": "1d5bc78a-a1f1-4382-9002-bc1fa9cfbdba",
   "metadata": {},
   "outputs": [
    {
     "data": {
      "text/plain": [
       "'Q4. Create a list of numbers from 1 to 100. Use for loop and while loop to calculate the cube of each\\nnumber and if the cube of that number is divisible by 4 or 5 then append that number in a list and print\\nthat list.'"
      ]
     },
     "execution_count": 16,
     "metadata": {},
     "output_type": "execute_result"
    }
   ],
   "source": [
    "# Q4. Create a list of numbers from 1 to 100. Use for loop and while loop to calculate the cube of each\n",
    "# number and if the cube of that number is divisible by 4 or 5 then append that number in a list and print\n",
    "# that list.'''"
   ]
  },
  {
   "cell_type": "code",
   "execution_count": 40,
   "id": "e2355739-39ea-4aea-9bb2-be3e70f97dbd",
   "metadata": {},
   "outputs": [
    {
     "name": "stdout",
     "output_type": "stream",
     "text": [
      "[8, 64, 125, 216, 512, 1000, 1728, 2744, 3375, 4096, 5832, 8000, 10648, 13824, 15625, 17576, 21952, 27000, 32768, 39304, 42875, 46656, 54872, 64000, 74088, 85184, 91125, 97336, 110592, 125000, 140608, 157464, 166375, 175616, 195112, 216000, 238328, 262144, 274625, 287496, 314432, 343000, 373248, 405224, 421875, 438976, 474552, 512000, 551368, 592704, 614125, 636056, 681472, 729000, 778688, 830584, 857375, 884736, 941192, 1000000]\n"
     ]
    }
   ],
   "source": [
    "list1 =[]\n",
    "for i in range (1,101):\n",
    "    n = pow(i,3)\n",
    "    if n%4==0 or n%5==0:\n",
    "        list1.append(n)\n",
    "print(flist1)"
   ]
  },
  {
   "cell_type": "code",
   "execution_count": 41,
   "id": "5af86305-68a6-4c70-b9da-98ba1db621bc",
   "metadata": {},
   "outputs": [
    {
     "data": {
      "text/plain": [
       "'Q5. Write a program to filter count vowels in the below-given string.\\nstring = \"I want to become a data scientist\"'"
      ]
     },
     "execution_count": 41,
     "metadata": {},
     "output_type": "execute_result"
    }
   ],
   "source": [
    "# Q5. Write a program to filter count vowels in the below-given string.\n",
    "# string = \"I want to become a data scientist\""
   ]
  },
  {
   "cell_type": "code",
   "execution_count": 42,
   "id": "81d1c83c-f231-4e5a-add9-9a8125d6c0e8",
   "metadata": {},
   "outputs": [
    {
     "name": "stdout",
     "output_type": "stream",
     "text": [
      "Number of vowels in the given string is:  11\n"
     ]
    }
   ],
   "source": [
    "string = \"I want to become a data scientist\"\n",
    "\n",
    "count = 0\n",
    "i = 0\n",
    "for i in range(len(string)):\n",
    "    if (\n",
    "        (string[i] == \"a\")\n",
    "        or (string[i] == \"e\")\n",
    "        or (string[i] == \"i\")\n",
    "        or (string[i] == \"o\")\n",
    "        or (string[i] == \"u\")\n",
    "    ):\n",
    "        count += 1\n",
    "\n",
    "print(\"Number of vowels in the given string is: \", count)"
   ]
  },
  {
   "cell_type": "code",
   "execution_count": null,
   "id": "4b4a046b-f963-4b33-8813-773e05f9670a",
   "metadata": {},
   "outputs": [],
   "source": []
  }
 ],
 "metadata": {
  "kernelspec": {
   "display_name": "Python 3 (ipykernel)",
   "language": "python",
   "name": "python3"
  },
  "language_info": {
   "codemirror_mode": {
    "name": "ipython",
    "version": 3
   },
   "file_extension": ".py",
   "mimetype": "text/x-python",
   "name": "python",
   "nbconvert_exporter": "python",
   "pygments_lexer": "ipython3",
   "version": "3.10.8"
  }
 },
 "nbformat": 4,
 "nbformat_minor": 5
}
